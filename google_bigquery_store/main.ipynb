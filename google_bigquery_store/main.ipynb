{
 "cells": [
  {
   "cell_type": "markdown",
   "id": "334d55a1",
   "metadata": {},
   "source": [
    "# Google Bigquery As Vector Store\n",
    "\n",
    "Google bigquery is known for its excellent capability to store structured data such as our tabular transaction data. But, google also provides another functionality for this google bigquery, it is capable to store the vector that can be used in LLM RAG architecture.\n",
    "\n",
    "This notebook will try to explore that capability."
   ]
  },
  {
   "cell_type": "code",
   "execution_count": 24,
   "id": "45ea3c3c",
   "metadata": {},
   "outputs": [
    {
     "data": {
      "text/plain": [
       "True"
      ]
     },
     "execution_count": null,
     "metadata": {},
     "output_type": "execute_result"
    }
   ],
   "source": [
    "# import libraries yang mau kita pakai\n",
    "from dotenv import load_dotenv\n",
    "import os\n",
    "\n",
    "# load environment\n",
    "load_dotenv()"
   ]
  },
  {
   "cell_type": "code",
   "execution_count": 25,
   "id": "db4b564e",
   "metadata": {},
   "outputs": [
    {
     "name": "stdout",
     "output_type": "stream",
     "text": [
      "BigQuery table bababos-main.data_analytics.vector_store_test initialized/validated as persistent storage. Access via BigQuery console:\n",
      " https://console.cloud.google.com/bigquery?project=bababos-main&ws=!1m5!1m4!4m3!1sbababos-main!2sdata_analytics!3svector_store_test\n"
     ]
    },
    {
     "name": "stderr",
     "output_type": "stream",
     "text": [
      "/home/berlins07/.pyenv/versions/3.11.13/envs/.research/lib/python3.11/site-packages/google/cloud/bigquery/_pandas_helpers.py:484: FutureWarning: Loading pandas DataFrame into BigQuery will require pandas-gbq package version 0.26.1 or greater in the future. Tried to import pandas-gbq and got: No module named 'pandas_gbq'\n",
      "  warnings.warn(\n"
     ]
    },
    {
     "data": {
      "text/plain": [
       "['a1f69c49186641f8a2d1af5fdbfb21d5']"
      ]
     },
     "execution_count": null,
     "metadata": {},
     "output_type": "execute_result"
    }
   ],
   "source": [
    "from langchain_huggingface import HuggingFaceEmbeddings\n",
    "from langchain_google_community.bq_storage_vectorstores import bigquery\n",
    "\n",
    "PROJECT_ID = \"bababos-main\"\n",
    "DATASET_NAME = \"data_analytics\"\n",
    "TABLE_NAME = \"vector_store_test\"\n",
    "LOCATION = \"asia-southeast2\"\n",
    "\n",
    "embedding_model = HuggingFaceEmbeddings(model_name=\"sentence-transformers/all-MiniLM-L6-v2\")\n",
    "\n",
    "# LangChain akan menggunakan GOOGLE_APPLICATION_CREDENTIALS secara otomatis\n",
    "vector_store = bigquery.BigQueryVectorStore(\n",
    "    project_id=PROJECT_ID,\n",
    "    dataset_name=DATASET_NAME,\n",
    "    table_name=TABLE_NAME,\n",
    "    location=LOCATION,\n",
    "    embedding=embedding_model,\n",
    ")\n",
    "\n",
    "# Anda sekarang bisa menggunakan vector_store untuk menyimpan atau mencari data\n",
    "vector_store.add_texts(texts=[\"Ini adalah teks yang akan diubah menjadi embedding.\"])"
   ]
  },
  {
   "cell_type": "code",
   "execution_count": 29,
   "id": "002fa3fd",
   "metadata": {},
   "outputs": [
    {
     "name": "stdout",
     "output_type": "stream",
     "text": [
      "Hasil pencarian untuk 'embedding?':\n",
      "- Ini adalah teks yang akan diubah menjadi embedding.\n"
     ]
    }
   ],
   "source": [
    "# Kueri pencarian Anda\n",
    "query = \"embedding?\"\n",
    "\n",
    "# Mencari dokumen yang paling mirip secara semantik\n",
    "docs = vector_store.similarity_search(query=query, k=2)\n",
    "\n",
    "print(f\"Hasil pencarian untuk '{query}':\")\n",
    "for doc in docs:\n",
    "    print(f\"- {doc.page_content}\")"
   ]
  }
 ],
 "metadata": {
  "language_info": {
   "name": "python"
  }
 },
 "nbformat": 4,
 "nbformat_minor": 5
}
